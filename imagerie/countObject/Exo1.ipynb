{
 "cells": [
  {
   "cell_type": "markdown",
   "metadata": {},
   "source": [
    "# Compter le nombre de pièce de monnaie dans l'image\n",
    "Récupérer l'image `../image/piece.jpeg` et détecter le nombre de pièce présente\n",
    "\n",
    "Voici mon résultat rapidemment, je n'ai pas cherché le résultat exa : \n",
    "![image](../image/pieceCenters.jpeg)"
   ]
  }
 ],
 "metadata": {
  "kernelspec": {
   "display_name": "Python 3",
   "language": "python",
   "name": "python3"
  },
  "language_info": {
   "codemirror_mode": {
    "name": "ipython",
    "version": 3
   },
   "file_extension": ".py",
   "mimetype": "text/x-python",
   "name": "python",
   "nbconvert_exporter": "python",
   "pygments_lexer": "ipython3",
   "version": "3.7.1"
  }
 },
 "nbformat": 4,
 "nbformat_minor": 2
}
