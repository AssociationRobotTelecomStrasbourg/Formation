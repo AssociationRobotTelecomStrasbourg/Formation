{
 "cells": [
  {
   "cell_type": "markdown",
   "metadata": {},
   "source": [
    "# Compter le nombre de couleur d'un rubixCube\n",
    "Vous pouvez reprendre le rubixCube du tuto `colorDetection` et vous pouvez commencer par compter le nombre de petits carrés que vous trouvez. Vous pouvez continuer par compter le nombre de couleur que vous avez sur l'image."
   ]
  }
 ],
 "metadata": {
  "kernelspec": {
   "display_name": "Python 3",
   "language": "python",
   "name": "python3"
  },
  "language_info": {
   "codemirror_mode": {
    "name": "ipython",
    "version": 3
   },
   "file_extension": ".py",
   "mimetype": "text/x-python",
   "name": "python",
   "nbconvert_exporter": "python",
   "pygments_lexer": "ipython3",
   "version": "3.7.1"
  }
 },
 "nbformat": 4,
 "nbformat_minor": 2
}
