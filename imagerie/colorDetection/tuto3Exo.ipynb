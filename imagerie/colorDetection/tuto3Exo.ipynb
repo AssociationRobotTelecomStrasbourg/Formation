{
 "cells": [
  {
   "cell_type": "markdown",
   "metadata": {},
   "source": [
    "### Dans ce fichier c'est à vous de coder ! <br \\>\n",
    "Récupérer l'image `../image/rubixCube.jpeg` et détecter les 6 couleurs présentes. <br \\>\n",
    "\n",
    "Des pistes de recherche (Pas sûr que ça fonctionne, à vous de tester) :\n",
    "* Afficher les histogramme RVB et tenter de définir plage des 6 couleurs\n",
    "* Ou afficher les histogramme HSV et définir les 6 couleurs (Hue, saturation, value) \n",
    "\n",
    "<img src=\"../image/hsv.png\" alt=\"hsv\" style=\"width:400px;\"/>\n"
   ]
  }
 ],
 "metadata": {
  "kernelspec": {
   "display_name": "Python 3",
   "language": "python",
   "name": "python3"
  },
  "language_info": {
   "codemirror_mode": {
    "name": "ipython",
    "version": 3
   },
   "file_extension": ".py",
   "mimetype": "text/x-python",
   "name": "python",
   "nbconvert_exporter": "python",
   "pygments_lexer": "ipython3",
   "version": "3.7.1"
  }
 },
 "nbformat": 4,
 "nbformat_minor": 2
}
